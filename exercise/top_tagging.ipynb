{
  "cells": [
    {
      "cell_type": "markdown",
      "metadata": {
        "colab_type": "text",
        "id": "3DR-eO17geWu"
      },
      "source": [
        "_This notebook is part of the material for the [Tutorials for ML4HEP](https://gitlab.com/hepcedar/mcnet-schools/zakopane-2022) session._\n",
        "\n",
        "[![Colab](https://colab.research.google.com/assets/colab-badge.svg)](https://colab.research.google.com/github/ramonpeter/ML4HEP-Tutorial/blob/main/exercise/top_tagging.ipynb)\n",
        "\n",
        "# Top-Tagging with Neural Networks"
      ]
    },
    {
      "cell_type": "markdown",
      "metadata": {
        "colab_type": "text",
        "id": "EMefrVPCg-60"
      },
      "source": [
        "### Importing the libraries"
      ]
    },
    {
      "cell_type": "code",
      "execution_count": null,
      "metadata": {
        "colab": {},
        "colab_type": "code",
        "id": "sCV30xyVhFbE"
      },
      "outputs": [],
      "source": [
        "# NN and data structures\n",
        "import tensorflow as tf\n",
        "import pandas as pd\n",
        "import numpy as np\n",
        "\n",
        "# Plotting\n",
        "import matplotlib.pyplot as plt\n",
        "from matplotlib import cm, colors\n",
        "from mpl_toolkits.axes_grid1 import make_axes_locatable"
      ]
    },
    {
      "cell_type": "markdown",
      "metadata": {
        "colab_type": "text",
        "id": "oxQxCBWyoGPE"
      },
      "source": [
        "## Part 1 - Data Preprocessing (don't change)\n",
        "\n",
        "### Download the datasets\n",
        "We load datasets for training (100k), validation (30k) and testing (30k)."
      ]
    },
    {
      "cell_type": "code",
      "execution_count": null,
      "metadata": {},
      "outputs": [],
      "source": [
        "!curl https://www.dropbox.com/s/abd8xntlaorzzvy/train_img.h5?dl=1 -L -o train_img.h5\n",
        "!curl https://www.dropbox.com/s/cmxe03vjfzhm70i/val_img.h5?dl=1 -L -o val_img.h5\n",
        "!curl https://www.dropbox.com/s/csxe65ykvmomxcs/test_img.h5?dl=1 -L -o test_img.h5"
      ]
    },
    {
      "cell_type": "markdown",
      "metadata": {},
      "source": [
        "### Load the data and reshape\n"
      ]
    },
    {
      "cell_type": "code",
      "execution_count": null,
      "metadata": {},
      "outputs": [],
      "source": [
        "def get_dataset(name):\n",
        "    raw_data = pd.read_hdf(name, \"table\").iloc[:, :].values\n",
        "    images, labels = raw_data[:,:-2].reshape((-1,40,40,1)), raw_data[:,-2]\n",
        "    return images, labels"
      ]
    },
    {
      "cell_type": "code",
      "execution_count": null,
      "metadata": {
        "colab": {},
        "colab_type": "code",
        "id": "0koUcJMJpEBD"
      },
      "outputs": [],
      "source": [
        "# Load the training set and check shape\n",
        "train_images, train_labels = get_dataset(\"train_img.h5\")\n",
        "print(train_images.shape)"
      ]
    },
    {
      "cell_type": "code",
      "execution_count": null,
      "metadata": {},
      "outputs": [],
      "source": [
        "# Load validation set and check shape\n",
        "val_images,val_labels = get_dataset(\"val_img.h5\")\n",
        "print(val_images.shape)\n",
        "\n",
        "# Load test set and check shape\n",
        "test_images, test_labels = get_dataset(\"test_img.h5\")\n",
        "print(test_images.shape)"
      ]
    },
    {
      "cell_type": "markdown",
      "metadata": {},
      "source": [
        "### Visualize the Jet images\n",
        "\n",
        "We first have a look into some random single Jet images from the validation set."
      ]
    },
    {
      "cell_type": "code",
      "execution_count": null,
      "metadata": {},
      "outputs": [],
      "source": [
        "# Plot\n",
        "classes = [\"Top jet\", \"QCD jet\"]\n",
        "plt.figure(figsize=(11,11))\n",
        "for i in range(10):\n",
        "    plt.subplot(5,5,i+1)\n",
        "    plt.yticks([0, 10, 20, 30, 40])\n",
        "    plt.xticks([0, 10, 20, 30, 40])\n",
        "    plt.grid(False)\n",
        "    plt.imshow(val_images[i].squeeze(), cmap=cm.jet)\n",
        "    plt.xlabel(classes[int(val_labels[i])], fontsize = 12)\n",
        "plt.show()"
      ]
    },
    {
      "cell_type": "markdown",
      "metadata": {},
      "source": [
        "We can also have a look into an average Top and QCD jet (10k average):"
      ]
    },
    {
      "cell_type": "code",
      "execution_count": null,
      "metadata": {},
      "outputs": [],
      "source": [
        "# Get signal and background images\n",
        "sig = val_labels > 0\n",
        "sig_images = val_images[sig]\n",
        "bg_images = val_images[~sig]\n",
        "k = 10000 # number of jet images averaged over\n",
        "\n",
        "# calculate average jet image\n",
        "average_sig = np.sum(sig_images[:k],axis=0)\n",
        "average_bg = np.sum(bg_images[:k],axis=0)\n",
        "average = [average_sig, average_bg]\n",
        "label = [\"Average Top jet\", \"Average QCD jet\"]\n",
        "\n",
        "# Plotting\n",
        "fig, axs = plt.subplots(1,2, figsize=(8,4), gridspec_kw={'wspace' : 0.3})\n",
        "plt.subplots_adjust(left=0.07, right=0.95, top=0.96, bottom=0.05)\n",
        "for i in range(2):\n",
        "    axs[i].grid(False)\n",
        "    im = axs[i].imshow(average[i].squeeze(), cmap=cm.jet, norm=colors.LogNorm())\n",
        "    axs[i].set_title(label[i], fontsize = 14)\n",
        "    axs[i].set_xlabel(r'$\\eta$', fontsize = 12)\n",
        "    axs[i].set_ylabel(r'$\\phi$', fontsize = 12)\n",
        "    axs[i].set_yticks([0, 10, 20, 30, 40])\n",
        "    axs[i].set_xticks([0, 10, 20, 30, 40])\n",
        "    divider = make_axes_locatable(axs[i])\n",
        "    cax = divider.append_axes('right', size='5%', pad=0.05)\n",
        "    fig.colorbar(im, cax=cax, orientation='vertical')\n",
        "    axs[i].set_aspect('equal', adjustable='box')\n",
        "plt.show()"
      ]
    },
    {
      "cell_type": "markdown",
      "metadata": {
        "colab_type": "text",
        "id": "af8O4l90gk7B"
      },
      "source": [
        "## Part 2 - Building the Model\n",
        "\n",
        "Needed parts:\n",
        "- Input layer (if [Functional API](https://keras.io/guides/functional_api/)) or initilize [sequential model](https://keras.io/guides/sequential_model/)\n",
        "- Add combination of [convolutions](https://keras.io/api/layers/convolution_layers/) and [pooling](https://keras.io/api/layers/pooling_layers/) layers (for `CNN` only)\n",
        "- [Flatten](https://keras.io/api/layers/reshaping_layers/flatten/) + [Fully Connected](https://keras.io/api/layers/core_layers/dense/) layers\n",
        "- Output layer with apropriate activation function\n",
        "\n"
      ]
    },
    {
      "cell_type": "markdown",
      "metadata": {},
      "source": [
        "### MLP/CNN Model"
      ]
    },
    {
      "cell_type": "code",
      "execution_count": null,
      "metadata": {},
      "outputs": [],
      "source": [
        "# TODO"
      ]
    },
    {
      "cell_type": "markdown",
      "metadata": {
        "colab_type": "text",
        "id": "D6XkI90snSDl"
      },
      "source": [
        "## Part 3 - Training the model"
      ]
    },
    {
      "cell_type": "markdown",
      "metadata": {
        "colab_type": "text",
        "id": "vfrFQACEnc6i"
      },
      "source": [
        "### Compiling the Model\n",
        "\n",
        "Check the [model.compile](https://keras.io/api/models/model_training_apis/#compile-method) function.  \n",
        "- Define some `optimizer` and choose choose `binary-crossentropy` loss.\n",
        "- Use `accuracy` as metric"
      ]
    },
    {
      "cell_type": "code",
      "execution_count": null,
      "metadata": {
        "colab": {},
        "colab_type": "code",
        "id": "NALksrNQpUlJ"
      },
      "outputs": [],
      "source": [
        "# TODO"
      ]
    },
    {
      "cell_type": "markdown",
      "metadata": {
        "colab_type": "text",
        "id": "ehS-v3MIpX2h"
      },
      "source": [
        "### Train on the training set and evaluate on the validation set\n",
        "\n",
        "- Use the Keras built-in [model.fit](https://keras.io/api/models/model_training_apis/#fit-method) function.\n",
        "- Define the number of `epochs`\n",
        "- Choose an appropriate `batch_size`\n",
        "- Use the validation set to track possible overfitting"
      ]
    },
    {
      "cell_type": "code",
      "execution_count": null,
      "metadata": {
        "colab": {},
        "colab_type": "code",
        "id": "XUj1W4PJptta"
      },
      "outputs": [],
      "source": [
        "# TODO"
      ]
    },
    {
      "cell_type": "markdown",
      "metadata": {},
      "source": [
        "Possibly detect overfitting (val acc << train acc) and adjust training: -> ASK ME"
      ]
    },
    {
      "cell_type": "markdown",
      "metadata": {
        "colab_type": "text",
        "id": "U3PZasO0006Z"
      },
      "source": [
        "## Part 4 - Plotting the results\n",
        "\n",
        "Check your model on the test set and do:\n",
        "\n",
        "- Evaluate and plot the [ROC](https://scikit-learn.org/stable/modules/generated/sklearn.metrics.roc_curve.html) curve, \n",
        "but use the more common LHC standard (x-axis: Signal efficiency = true positive rate, y-axis: Background rejection = 1/(false positive rate))\n",
        "- Calculate the Area Under the Curve ([AUC](https://scikit-learn.org/stable/modules/generated/sklearn.metrics.auc.html#sklearn.metrics.auc))\n",
        "- Compare with random classifier"
      ]
    },
    {
      "cell_type": "markdown",
      "metadata": {},
      "source": [
        "### Import necessary libraries and test images"
      ]
    },
    {
      "cell_type": "code",
      "execution_count": null,
      "metadata": {
        "colab": {},
        "colab_type": "code",
        "id": "gsSiWEJY1BPB"
      },
      "outputs": [],
      "source": [
        "from sklearn.metrics import roc_curve, auc"
      ]
    },
    {
      "cell_type": "markdown",
      "metadata": {},
      "source": [
        "### Determine and plot ROC curve with AUC"
      ]
    },
    {
      "cell_type": "code",
      "execution_count": null,
      "metadata": {},
      "outputs": [],
      "source": [
        "# TODO"
      ]
    }
  ],
  "metadata": {
    "colab": {
      "collapsed_sections": [],
      "name": "convolutional_neural_network.ipynb",
      "provenance": [],
      "toc_visible": true
    },
    "kernelspec": {
      "display_name": "Python 3.8.12 ('tf')",
      "language": "python",
      "name": "python3"
    },
    "language_info": {
      "codemirror_mode": {
        "name": "ipython",
        "version": 3
      },
      "file_extension": ".py",
      "mimetype": "text/x-python",
      "name": "python",
      "nbconvert_exporter": "python",
      "pygments_lexer": "ipython3",
      "version": "3.8.12"
    },
    "vscode": {
      "interpreter": {
        "hash": "58f166171353910d4b521e3e6b0bb1c47c90c0ce532378647414ba68b359e022"
      }
    }
  },
  "nbformat": 4,
  "nbformat_minor": 0
}
