{
  "cells": [
    {
      "cell_type": "markdown",
      "metadata": {
        "colab_type": "text",
        "id": "3DR-eO17geWu"
      },
      "source": [
        "_This notebook is part of the material for the [Tutorials for ML4HEP](https://gitlab.com/hepcedar/mcnet-schools/zakopane-2022) session._\n",
        "\n",
        "[![Colab](https://colab.research.google.com/assets/colab-badge.svg)](https://colab.research.google.com/github/ramonpeter/ML4HEP-Tutorial/blob/main/solution/top_tagging_sol.ipynb)\n",
        "\n",
        "# Top-Tagging with Neural Networks"
      ]
    },
    {
      "cell_type": "markdown",
      "metadata": {
        "colab_type": "text",
        "id": "EMefrVPCg-60"
      },
      "source": [
        "### Importing the libraries"
      ]
    },
    {
      "cell_type": "code",
      "execution_count": 5,
      "metadata": {
        "colab": {},
        "colab_type": "code",
        "id": "sCV30xyVhFbE"
      },
      "outputs": [],
      "source": [
        "# NN and data structures\n",
        "import tensorflow as tf\n",
        "import pandas as pd\n",
        "import numpy as np\n",
        "\n",
        "# Plotting\n",
        "import matplotlib.pyplot as plt\n",
        "from matplotlib import cm, colors\n",
        "from mpl_toolkits.axes_grid1 import make_axes_locatable"
      ]
    },
    {
      "cell_type": "markdown",
      "metadata": {
        "colab_type": "text",
        "id": "oxQxCBWyoGPE"
      },
      "source": [
        "## Part 1 - Data Preprocessing (don't change)\n",
        "\n",
        "### Download the datasets\n",
        "We load datasets for training (100k), validation (30k) and testing (30k)."
      ]
    },
    {
      "cell_type": "code",
      "execution_count": null,
      "metadata": {},
      "outputs": [],
      "source": [
        "!curl https://www.dropbox.com/s/abd8xntlaorzzvy/train_img.h5?dl=1 -L -o train_img.h5\n",
        "!curl https://www.dropbox.com/s/cmxe03vjfzhm70i/val_img.h5?dl=1 -L -o val_img.h5\n",
        "!curl https://www.dropbox.com/s/csxe65ykvmomxcs/test_img.h5?dl=1 -L -o test_img.h5"
      ]
    },
    {
      "cell_type": "markdown",
      "metadata": {},
      "source": [
        "### Load the data and reshape\n"
      ]
    },
    {
      "cell_type": "code",
      "execution_count": 6,
      "metadata": {},
      "outputs": [],
      "source": [
        "def get_dataset(name):\n",
        "    raw_data = pd.read_hdf(name, \"table\").iloc[:, :].values\n",
        "    images, labels = raw_data[:,:-2].reshape((-1,40,40,1)), raw_data[:,-2]\n",
        "    return images, labels"
      ]
    },
    {
      "cell_type": "code",
      "execution_count": 7,
      "metadata": {
        "colab": {},
        "colab_type": "code",
        "id": "0koUcJMJpEBD"
      },
      "outputs": [
        {
          "name": "stdout",
          "output_type": "stream",
          "text": [
            "(100000, 40, 40, 1)\n"
          ]
        }
      ],
      "source": [
        "# Load the training set and check shape\n",
        "train_images, train_labels = get_dataset(\"train_img.h5\")\n",
        "print(train_images.shape)"
      ]
    },
    {
      "cell_type": "code",
      "execution_count": 8,
      "metadata": {},
      "outputs": [
        {
          "name": "stdout",
          "output_type": "stream",
          "text": [
            "(30000, 40, 40, 1)\n",
            "(30000, 40, 40, 1)\n"
          ]
        }
      ],
      "source": [
        "# Load validation set and check shape\n",
        "val_images,val_labels = get_dataset(\"val_img.h5\")\n",
        "print(val_images.shape)\n",
        "\n",
        "# Load test set and check shape\n",
        "test_images, test_labels = get_dataset(\"test_img.h5\")\n",
        "print(test_images.shape)"
      ]
    },
    {
      "cell_type": "markdown",
      "metadata": {},
      "source": [
        "### Visualize the Jet images\n",
        "\n",
        "We first have a look into some random single Jet images from the validation set."
      ]
    },
    {
      "cell_type": "code",
      "execution_count": null,
      "metadata": {},
      "outputs": [],
      "source": [
        "# Plot\n",
        "classes = [\"Top jet\", \"QCD jet\"]\n",
        "plt.figure(figsize=(11,11))\n",
        "for i in range(10):\n",
        "    plt.subplot(5,5,i+1)\n",
        "    plt.yticks([0, 10, 20, 30, 40])\n",
        "    plt.xticks([0, 10, 20, 30, 40])\n",
        "    plt.grid(False)\n",
        "    plt.imshow(val_images[i].squeeze(), cmap=cm.jet)\n",
        "    plt.xlabel(classes[int(val_labels[i])], fontsize = 12)\n",
        "plt.show()"
      ]
    },
    {
      "cell_type": "markdown",
      "metadata": {},
      "source": [
        "We can also have a look into an average Top and QCD jet (10k average):"
      ]
    },
    {
      "cell_type": "code",
      "execution_count": 9,
      "metadata": {},
      "outputs": [
        {
          "data": {
            "image/png": "[encoded data removed]",
            "text/plain": [
              "<Figure size 576x288 with 4 Axes>"
            ]
          },
          "metadata": {
            "needs_background": "light"
          },
          "output_type": "display_data"
        }
      ],
      "source": [
        "# Get signal and background images\n",
        "sig = val_labels > 0\n",
        "sig_images = val_images[sig]\n",
        "bg_images = val_images[~sig]\n",
        "k = 10000 # number of jet images averaged over\n",
        "\n",
        "# calculate average jet image\n",
        "average_sig = np.sum(sig_images[:k],axis=0)\n",
        "average_bg = np.sum(bg_images[:k],axis=0)\n",
        "average = [average_sig, average_bg]\n",
        "label = [\"Average Top jet\", \"Average QCD jet\"]\n",
        "\n",
        "# Plotting\n",
        "fig, axs = plt.subplots(1,2, figsize=(8,4), gridspec_kw={'wspace' : 0.3})\n",
        "plt.subplots_adjust(left=0.07, right=0.95, top=0.96, bottom=0.05)\n",
        "for i in range(2):\n",
        "    axs[i].grid(False)\n",
        "    im = axs[i].imshow(average[i].squeeze(), cmap=cm.jet, norm=colors.LogNorm())\n",
        "    axs[i].set_title(label[i], fontsize = 14)\n",
        "    axs[i].set_xlabel(r'$\\eta$', fontsize = 12)\n",
        "    axs[i].set_ylabel(r'$\\phi$', fontsize = 12)\n",
        "    axs[i].set_yticks([0, 10, 20, 30, 40])\n",
        "    axs[i].set_xticks([0, 10, 20, 30, 40])\n",
        "    divider = make_axes_locatable(axs[i])\n",
        "    cax = divider.append_axes('right', size='5%', pad=0.05)\n",
        "    fig.colorbar(im, cax=cax, orientation='vertical')\n",
        "    axs[i].set_aspect('equal', adjustable='box')\n",
        "plt.show()"
      ]
    },
    {
      "cell_type": "markdown",
      "metadata": {
        "colab_type": "text",
        "id": "af8O4l90gk7B"
      },
      "source": [
        "## Part 2 - Building the Model\n",
        "\n",
        "Needed parts:\n",
        "- Input layer (if [Functional API](https://keras.io/guides/functional_api/)) or initilize [sequential model](https://keras.io/guides/sequential_model/)\n",
        "- Add combination of [convolutions](https://keras.io/api/layers/convolution_layers/) and [pooling](https://keras.io/api/layers/pooling_layers/) layers (for `CNN` only)\n",
        "- [Flatten](https://keras.io/api/layers/reshaping_layers/flatten/) + [Fully Connected](https://keras.io/api/layers/core_layers/dense/) layers\n",
        "- Output layer with apropriate activation function\n",
        "\n"
      ]
    },
    {
      "cell_type": "markdown",
      "metadata": {},
      "source": [
        "### MLP Model"
      ]
    },
    {
      "cell_type": "code",
      "execution_count": 13,
      "metadata": {},
      "outputs": [
        {
          "name": "stdout",
          "output_type": "stream",
          "text": [
            "Model: \"MLP_Tagger\"\n",
            "_________________________________________________________________\n",
            " Layer (type)                Output Shape              Param #   \n",
            "=================================================================\n",
            " flatten_3 (Flatten)         (None, 1600)              0         \n",
            "                                                                 \n",
            " dense_12 (Dense)            (None, 128)               204928    \n",
            "                                                                 \n",
            " dense_13 (Dense)            (None, 64)                8256      \n",
            "                                                                 \n",
            " dense_14 (Dense)            (None, 32)                2080      \n",
            "                                                                 \n",
            " dense_15 (Dense)            (None, 1)                 33        \n",
            "                                                                 \n",
            "=================================================================\n",
            "Total params: 215,297\n",
            "Trainable params: 215,297\n",
            "Non-trainable params: 0\n",
            "_________________________________________________________________\n",
            "None\n"
          ]
        }
      ],
      "source": [
        "mlp = tf.keras.models.Sequential(name=\"MLP_Tagger\")\n",
        "\n",
        "# Flatten\n",
        "mlp.add(tf.keras.layers.Flatten(input_shape=(40, 40, 1)))\n",
        "\n",
        "# Fully connected\n",
        "mlp.add(tf.keras.layers.Dense(units=128, activation='relu'))\n",
        "mlp.add(tf.keras.layers.Dense(units=64, activation='relu'))\n",
        "mlp.add(tf.keras.layers.Dense(units=32, activation='relu'))\n",
        "\n",
        "# Output layer, units = 2 and \"softmax\" would also work!\n",
        "mlp.add(tf.keras.layers.Dense(units=1, activation='sigmoid'))\n",
        "\n",
        "# print the summary\n",
        "print(mlp.summary())"
      ]
    },
    {
      "cell_type": "markdown",
      "metadata": {},
      "source": [
        "### CNN Model"
      ]
    },
    {
      "cell_type": "code",
      "execution_count": 14,
      "metadata": {},
      "outputs": [
        {
          "name": "stdout",
          "output_type": "stream",
          "text": [
            "Model: \"CNN_Tagger\"\n",
            "_________________________________________________________________\n",
            " Layer (type)                Output Shape              Param #   \n",
            "=================================================================\n",
            " conv2d (Conv2D)             (None, 40, 40, 64)        1088      \n",
            "                                                                 \n",
            " max_pooling2d (MaxPooling2D  (None, 20, 20, 64)       0         \n",
            " )                                                               \n",
            "                                                                 \n",
            " conv2d_1 (Conv2D)           (None, 20, 20, 32)        32800     \n",
            "                                                                 \n",
            " conv2d_2 (Conv2D)           (None, 20, 20, 32)        16416     \n",
            "                                                                 \n",
            " max_pooling2d_1 (MaxPooling  (None, 10, 10, 32)       0         \n",
            " 2D)                                                             \n",
            "                                                                 \n",
            " flatten_4 (Flatten)         (None, 3200)              0         \n",
            "                                                                 \n",
            " dense_16 (Dense)            (None, 32)                102432    \n",
            "                                                                 \n",
            " dense_17 (Dense)            (None, 1)                 33        \n",
            "                                                                 \n",
            "=================================================================\n",
            "Total params: 152,769\n",
            "Trainable params: 152,769\n",
            "Non-trainable params: 0\n",
            "_________________________________________________________________\n",
            "None\n"
          ]
        }
      ],
      "source": [
        "cnn = tf.keras.models.Sequential(name=\"CNN_Tagger\")\n",
        "\n",
        "# Convolution and Max-Pooling\n",
        "cnn.add(tf.keras.layers.Conv2D(filters=64, kernel_size=4, padding='same', activation='relu', input_shape=[40, 40, 1]))\n",
        "cnn.add(tf.keras.layers.MaxPool2D())\n",
        "cnn.add(tf.keras.layers.Conv2D(filters=32, kernel_size=4, padding='same', activation='relu'))\n",
        "cnn.add(tf.keras.layers.Conv2D(filters=32, kernel_size=4, padding='same', activation='relu'))\n",
        "cnn.add(tf.keras.layers.MaxPool2D())\n",
        "\n",
        "# Flatten and fully connected\n",
        "cnn.add(tf.keras.layers.Flatten())\n",
        "cnn.add(tf.keras.layers.Dense(units=32, activation='relu'))\n",
        "\n",
        "# Output layer, units = 2 and \"softmax\" would also work!\n",
        "cnn.add(tf.keras.layers.Dense(units=1, activation='sigmoid'))\n",
        "\n",
        "# print the summary\n",
        "print(cnn.summary())"
      ]
    },
    {
      "cell_type": "markdown",
      "metadata": {
        "colab_type": "text",
        "id": "D6XkI90snSDl"
      },
      "source": [
        "## Part 3 - Training the model"
      ]
    },
    {
      "cell_type": "markdown",
      "metadata": {
        "colab_type": "text",
        "id": "vfrFQACEnc6i"
      },
      "source": [
        "### Compiling the Model\n",
        "\n",
        "Check the [model.compile](https://keras.io/api/models/model_training_apis/#compile-method) function.  \n",
        "- Use Adam optimizer and Binary-Crossentropy Loss (or CategoricalCrossentropy, depends on the Model!!)\n",
        "- Use accuracy as metric"
      ]
    },
    {
      "cell_type": "code",
      "execution_count": 15,
      "metadata": {
        "colab": {},
        "colab_type": "code",
        "id": "NALksrNQpUlJ"
      },
      "outputs": [],
      "source": [
        "cnn.compile(optimizer = 'adam', loss = 'binary_crossentropy', metrics = ['accuracy'])\n",
        "mlp.compile(optimizer = 'adam', loss = 'binary_crossentropy', metrics = ['accuracy'])"
      ]
    },
    {
      "cell_type": "markdown",
      "metadata": {
        "colab_type": "text",
        "id": "ehS-v3MIpX2h"
      },
      "source": [
        "### Train on the training set and evaluate on the validation set\n",
        "\n",
        "- Use the Keras built-in [model.fit](https://keras.io/api/models/model_training_apis/#fit-method) function.\n",
        "- Define the number of `epochs`\n",
        "- Choose an appropriate `batch_size`\n",
        "\n",
        "### Train MLP"
      ]
    },
    {
      "cell_type": "code",
      "execution_count": 16,
      "metadata": {
        "colab": {},
        "colab_type": "code",
        "id": "XUj1W4PJptta"
      },
      "outputs": [
        {
          "name": "stderr",
          "output_type": "stream",
          "text": [
            "2022-06-15 15:35:22.133595: W tensorflow/core/platform/profile_utils/cpu_utils.cc:128] Failed to get CPU frequency: 0 Hz\n"
          ]
        },
        {
          "name": "stdout",
          "output_type": "stream",
          "text": [
            "Epoch 1/4\n",
            "782/782 [==============================] - 2s 2ms/step - loss: 0.3235 - accuracy: 0.8658 - val_loss: 0.2829 - val_accuracy: 0.8781\n",
            "Epoch 2/4\n",
            "782/782 [==============================] - 2s 2ms/step - loss: 0.2676 - accuracy: 0.8871 - val_loss: 0.2700 - val_accuracy: 0.8875\n",
            "Epoch 3/4\n",
            "782/782 [==============================] - 2s 2ms/step - loss: 0.2479 - accuracy: 0.8968 - val_loss: 0.2621 - val_accuracy: 0.8905\n",
            "Epoch 4/4\n",
            "782/782 [==============================] - 2s 2ms/step - loss: 0.2316 - accuracy: 0.9041 - val_loss: 0.2614 - val_accuracy: 0.8908\n"
          ]
        },
        {
          "data": {
            "text/plain": [
              "<keras.callbacks.History at 0x118d91ee0>"
            ]
          },
          "execution_count": 16,
          "metadata": {},
          "output_type": "execute_result"
        }
      ],
      "source": [
        "mlp.fit(x = train_images, y = train_labels, validation_data=(test_images, test_labels), epochs = 4, batch_size=128)"
      ]
    },
    {
      "cell_type": "markdown",
      "metadata": {},
      "source": [
        "### Train CNN"
      ]
    },
    {
      "cell_type": "code",
      "execution_count": 17,
      "metadata": {},
      "outputs": [
        {
          "name": "stdout",
          "output_type": "stream",
          "text": [
            "Epoch 1/4\n",
            "782/782 [==============================] - 104s 133ms/step - loss: 0.2831 - accuracy: 0.8799 - val_loss: 0.2469 - val_accuracy: 0.8972\n",
            "Epoch 2/4\n",
            "782/782 [==============================] - 99s 127ms/step - loss: 0.2407 - accuracy: 0.9009 - val_loss: 0.2362 - val_accuracy: 0.9016\n",
            "Epoch 3/4\n",
            "782/782 [==============================] - 108s 139ms/step - loss: 0.2319 - accuracy: 0.9047 - val_loss: 0.2372 - val_accuracy: 0.9004\n",
            "Epoch 4/4\n",
            "782/782 [==============================] - 103s 132ms/step - loss: 0.2243 - accuracy: 0.9083 - val_loss: 0.2273 - val_accuracy: 0.9068\n"
          ]
        },
        {
          "data": {
            "text/plain": [
              "<keras.callbacks.History at 0x119134640>"
            ]
          },
          "execution_count": 17,
          "metadata": {},
          "output_type": "execute_result"
        }
      ],
      "source": [
        "cnn.fit(x = train_images, y = train_labels, validation_data=(test_images, test_labels), epochs = 4, batch_size=128)"
      ]
    },
    {
      "cell_type": "markdown",
      "metadata": {},
      "source": [
        "Possibly detect overfitting (val acc << train acc) and adjust training: -> ASK ME"
      ]
    },
    {
      "cell_type": "markdown",
      "metadata": {
        "colab_type": "text",
        "id": "U3PZasO0006Z"
      },
      "source": [
        "## Part 4 - Plotting the results\n",
        "\n",
        "Check your model on the test set and do:\n",
        "\n",
        "- Evaluate and plot the [ROC](https://scikit-learn.org/stable/modules/generated/sklearn.metrics.roc_curve.html) curve, \n",
        "but use the more common LHC standard (x-axis: Signal efficiency = true positive rate, y-axis: Background rejection = 1/(false positive rate))\n",
        "- Calculate the Area Under the Curve ([AUC](https://scikit-learn.org/stable/modules/generated/sklearn.metrics.auc.html#sklearn.metrics.auc))\n",
        "- Compare with random classifier"
      ]
    },
    {
      "cell_type": "markdown",
      "metadata": {},
      "source": [
        "### Import necessary libraries and test images"
      ]
    },
    {
      "cell_type": "code",
      "execution_count": 18,
      "metadata": {
        "colab": {},
        "colab_type": "code",
        "id": "gsSiWEJY1BPB"
      },
      "outputs": [],
      "source": [
        "from sklearn.metrics import roc_curve, auc"
      ]
    },
    {
      "cell_type": "markdown",
      "metadata": {},
      "source": [
        "### Determine and plot ROC curve with AUC"
      ]
    },
    {
      "cell_type": "code",
      "execution_count": 20,
      "metadata": {},
      "outputs": [],
      "source": [
        "# MLP\n",
        "predictions_mlp = mlp.predict(test_images)\n",
        "fpr_mlp, tpr_mlp, thresholds = roc_curve(test_labels.ravel(), predictions_mlp.ravel())\n",
        "auc_mlp = auc(fpr_mlp, tpr_mlp)\n",
        "\n",
        "# CNN\n",
        "predictions_cnn = cnn.predict(test_images)\n",
        "fpr_cnn, tpr_cnn, thresholds = roc_curve(test_labels.ravel(), predictions_cnn.ravel())\n",
        "auc_cnn = auc(fpr_cnn, tpr_cnn)"
      ]
    },
    {
      "cell_type": "code",
      "execution_count": 23,
      "metadata": {},
      "outputs": [
        {
          "data": {
            "image/png": "[encoded data removed]",
            "text/plain": [
              "<Figure size 432x288 with 1 Axes>"
            ]
          },
          "metadata": {
            "needs_background": "light"
          },
          "output_type": "display_data"
        }
      ],
      "source": [
        "# Colors\n",
        "dcolor = '#3b528b'\n",
        "gcolor = '#e41a1c'\n",
        "\n",
        "# reference line\n",
        "tpr_ref = np.linspace(0,1,1000)\n",
        "fpr_ref = np.linspace(0,1,1000)\n",
        "\n",
        "lw = 2\n",
        "epsilon = 1e-5\n",
        "\n",
        "plt.figure()\n",
        "plt.plot(\n",
        "    tpr_cnn,\n",
        "    1/(fpr_cnn+epsilon),\n",
        "    color=gcolor,\n",
        "    lw=lw,\n",
        "    label=\"CNN (AUC = %0.3f)\" % auc_cnn,\n",
        ")\n",
        "plt.plot(\n",
        "    tpr_mlp,\n",
        "    1/(fpr_mlp+epsilon),\n",
        "    color=dcolor,\n",
        "    lw=lw,\n",
        "    label=\"MLP (AUC = %0.3f)\" % auc_mlp,\n",
        ")\n",
        "plt.plot(tpr_ref, 1/(fpr_ref+epsilon), color=\"grey\", lw=1, linestyle=\"--\")\n",
        "plt.xlim([0.0, 1.0])\n",
        "plt.yscale('log')\n",
        "plt.xlabel(\"Signal Efficiency (True Positive Rate)\")\n",
        "plt.ylabel(\"Rejection (1/False Positive Rate)\")\n",
        "plt.legend(loc=\"upper right\", frameon=False)\n",
        "plt.savefig('ROC.pdf', format='pdf')\n",
        "plt.show()"
      ]
    }
  ],
  "metadata": {
    "colab": {
      "collapsed_sections": [],
      "name": "convolutional_neural_network.ipynb",
      "provenance": [],
      "toc_visible": true
    },
    "interpreter": {
      "hash": "58f166171353910d4b521e3e6b0bb1c47c90c0ce532378647414ba68b359e022"
    },
    "kernelspec": {
      "display_name": "Python 3.8.12 ('tf')",
      "language": "python",
      "name": "python3"
    },
    "language_info": {
      "codemirror_mode": {
        "name": "ipython",
        "version": 3
      },
      "file_extension": ".py",
      "mimetype": "text/x-python",
      "name": "python",
      "nbconvert_exporter": "python",
      "pygments_lexer": "ipython3",
      "version": "3.8.12"
    }
  },
  "nbformat": 4,
  "nbformat_minor": 0
}
